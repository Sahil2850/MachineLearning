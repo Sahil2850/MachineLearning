{
 "cells": [
  {
   "cell_type": "markdown",
   "metadata": {
    "colab_type": "text",
    "id": "3DR-eO17geWu"
   },
   "source": [
    "# Convolutional Neural Network"
   ]
  },
  {
   "cell_type": "markdown",
   "metadata": {
    "colab_type": "text",
    "id": "EMefrVPCg-60"
   },
   "source": [
    "### Importing the libraries"
   ]
  },
  {
   "cell_type": "code",
   "execution_count": 2,
   "metadata": {
    "colab": {},
    "colab_type": "code",
    "id": "sCV30xyVhFbE"
   },
   "outputs": [],
   "source": [
    "import tensorflow as tf\n",
    "from tensorflow.keras.preprocessing.image import ImageDataGenerator"
   ]
  },
  {
   "cell_type": "code",
   "execution_count": 3,
   "metadata": {
    "colab": {},
    "colab_type": "code",
    "id": "FIleuCAjoFD8"
   },
   "outputs": [
    {
     "data": {
      "text/plain": [
       "'2.4.0-rc0'"
      ]
     },
     "execution_count": 3,
     "metadata": {},
     "output_type": "execute_result"
    }
   ],
   "source": [
    "tf.__version__"
   ]
  },
  {
   "cell_type": "markdown",
   "metadata": {
    "colab_type": "text",
    "id": "oxQxCBWyoGPE"
   },
   "source": [
    "## Part 1 - Data Preprocessing"
   ]
  },
  {
   "cell_type": "markdown",
   "metadata": {
    "colab_type": "text",
    "id": "MvE-heJNo3GG"
   },
   "source": [
    "### Preprocessing the Training set"
   ]
  },
  {
   "cell_type": "code",
   "execution_count": 5,
   "metadata": {},
   "outputs": [
    {
     "name": "stdout",
     "output_type": "stream",
     "text": [
      "Found 8000 images belonging to 2 classes.\n"
     ]
    }
   ],
   "source": [
    "train_datagen = ImageDataGenerator(\n",
    "        rescale = 1./255,\n",
    "        shear_range = 0.2,\n",
    "        zoom_range = 0.2,\n",
    "        horizontal_flip = True)\n",
    "\n",
    "training_set = train_datagen.flow_from_directory(\n",
    "    'training_set',\n",
    "    target_size = (150,150),\n",
    "    batch_size = 32,\n",
    "    class_mode = 'binary')"
   ]
  },
  {
   "cell_type": "markdown",
   "metadata": {
    "colab_type": "text",
    "id": "mrCMmGw9pHys"
   },
   "source": [
    "### Preprocessing the Test set"
   ]
  },
  {
   "cell_type": "code",
   "execution_count": 6,
   "metadata": {},
   "outputs": [
    {
     "name": "stdout",
     "output_type": "stream",
     "text": [
      "Found 2000 images belonging to 2 classes.\n"
     ]
    }
   ],
   "source": [
    "test_datagen = ImageDataGenerator(rescale=1./255)\n",
    "test_set = test_datagen.flow_from_directory(\n",
    "    'test_set',\n",
    "    target_size = (150,150),\n",
    "    batch_size = 32,\n",
    "    class_mode = 'binary')"
   ]
  },
  {
   "cell_type": "markdown",
   "metadata": {
    "colab_type": "text",
    "id": "af8O4l90gk7B"
   },
   "source": [
    "## Part 2 - Building the CNN"
   ]
  },
  {
   "cell_type": "markdown",
   "metadata": {
    "colab_type": "text",
    "id": "ces1gXY2lmoX"
   },
   "source": [
    "### Initialising the CNN"
   ]
  },
  {
   "cell_type": "code",
   "execution_count": 7,
   "metadata": {},
   "outputs": [],
   "source": [
    "cnn = tf.keras.models.Sequential()"
   ]
  },
  {
   "cell_type": "markdown",
   "metadata": {
    "colab_type": "text",
    "id": "u5YJj_XMl5LF"
   },
   "source": [
    "### Step 1 - Convolution"
   ]
  },
  {
   "cell_type": "code",
   "execution_count": 9,
   "metadata": {},
   "outputs": [],
   "source": [
    "cnn.add(tf.keras.layers.Conv2D(filters=64, kernel_size=3, activation='relu', input_shape=[150,150,3]))"
   ]
  },
  {
   "cell_type": "markdown",
   "metadata": {
    "colab_type": "text",
    "id": "tf87FpvxmNOJ"
   },
   "source": [
    "### Step 2 - Pooling"
   ]
  },
  {
   "cell_type": "code",
   "execution_count": 10,
   "metadata": {},
   "outputs": [],
   "source": [
    "cnn.add(tf.keras.layers.MaxPool2D(pool_size=2 , strides = 2, ))"
   ]
  },
  {
   "cell_type": "markdown",
   "metadata": {
    "colab_type": "text",
    "id": "xaTOgD8rm4mU"
   },
   "source": [
    "### Adding a second convolutional layer"
   ]
  },
  {
   "cell_type": "code",
   "execution_count": 11,
   "metadata": {},
   "outputs": [],
   "source": [
    "cnn.add(tf.keras.layers.Conv2D(filters=64, kernel_size=3, activation='relu'))\n",
    "cnn.add(tf.keras.layers.MaxPool2D(pool_size=2 , strides = 2 ))"
   ]
  },
  {
   "cell_type": "markdown",
   "metadata": {
    "colab_type": "text",
    "id": "tmiEuvTunKfk"
   },
   "source": [
    "### Step 3 - Flattening"
   ]
  },
  {
   "cell_type": "code",
   "execution_count": 12,
   "metadata": {},
   "outputs": [],
   "source": [
    "cnn.add(tf.keras.layers.Flatten())"
   ]
  },
  {
   "cell_type": "markdown",
   "metadata": {
    "colab_type": "text",
    "id": "dAoSECOm203v"
   },
   "source": [
    "### Step 4 - Full Connection"
   ]
  },
  {
   "cell_type": "code",
   "execution_count": 13,
   "metadata": {},
   "outputs": [],
   "source": [
    "cnn.add(tf.keras.layers.Dense(units = 300, activation='relu'))"
   ]
  },
  {
   "cell_type": "markdown",
   "metadata": {
    "colab_type": "text",
    "id": "yTldFvbX28Na"
   },
   "source": [
    "### Step 5 - Output Layer"
   ]
  },
  {
   "cell_type": "code",
   "execution_count": 14,
   "metadata": {},
   "outputs": [],
   "source": [
    "cnn.add(tf.keras.layers.Dense(units = 1, activation='sigmoid'))"
   ]
  },
  {
   "cell_type": "markdown",
   "metadata": {
    "colab_type": "text",
    "id": "D6XkI90snSDl"
   },
   "source": [
    "## Part 3 - Training the CNN"
   ]
  },
  {
   "cell_type": "markdown",
   "metadata": {
    "colab_type": "text",
    "id": "vfrFQACEnc6i"
   },
   "source": [
    "### Compiling the CNN"
   ]
  },
  {
   "cell_type": "code",
   "execution_count": 15,
   "metadata": {},
   "outputs": [],
   "source": [
    "cnn.compile(optimizer = 'adam', loss = 'binary_crossentropy', metrics=['accuracy'])"
   ]
  },
  {
   "cell_type": "markdown",
   "metadata": {
    "colab_type": "text",
    "id": "ehS-v3MIpX2h"
   },
   "source": [
    "### Training the CNN on the Training set and evaluating it on the Test set"
   ]
  },
  {
   "cell_type": "code",
   "execution_count": 16,
   "metadata": {},
   "outputs": [
    {
     "name": "stdout",
     "output_type": "stream",
     "text": [
      "Epoch 1/30\n",
      "WARNING:tensorflow:AutoGraph could not transform <function Model.make_train_function.<locals>.train_function at 0x16dbeee50> and will run it as-is.\n",
      "Please report this to the TensorFlow team. When filing the bug, set the verbosity to 10 (on Linux, `export AUTOGRAPH_VERBOSITY=10`) and attach the full output.\n",
      "Cause: unsupported operand type(s) for -: 'NoneType' and 'int'\n",
      "To silence this warning, decorate the function with @tf.autograph.experimental.do_not_convert\n",
      "WARNING: AutoGraph could not transform <function Model.make_train_function.<locals>.train_function at 0x16dbeee50> and will run it as-is.\n",
      "Please report this to the TensorFlow team. When filing the bug, set the verbosity to 10 (on Linux, `export AUTOGRAPH_VERBOSITY=10`) and attach the full output.\n",
      "Cause: unsupported operand type(s) for -: 'NoneType' and 'int'\n",
      "To silence this warning, decorate the function with @tf.autograph.experimental.do_not_convert\n"
     ]
    },
    {
     "name": "stderr",
     "output_type": "stream",
     "text": [
      "2021-07-19 06:00:38.654525: I tensorflow/compiler/mlir/mlir_graph_optimization_pass.cc:116] None of the MLIR optimization passes are enabled (registered 2)\n",
      "2021-07-19 06:00:38.655059: W tensorflow/core/platform/profile_utils/cpu_utils.cc:126] Failed to get CPU frequency: 0 Hz\n"
     ]
    },
    {
     "name": "stdout",
     "output_type": "stream",
     "text": [
      "250/250 [==============================] - ETA: 0s - loss: 0.9367 - accuracy: 0.5306WARNING:tensorflow:AutoGraph could not transform <function Model.make_test_function.<locals>.test_function at 0x308530af0> and will run it as-is.\n",
      "Please report this to the TensorFlow team. When filing the bug, set the verbosity to 10 (on Linux, `export AUTOGRAPH_VERBOSITY=10`) and attach the full output.\n",
      "Cause: unsupported operand type(s) for -: 'NoneType' and 'int'\n",
      "To silence this warning, decorate the function with @tf.autograph.experimental.do_not_convert\n",
      "WARNING: AutoGraph could not transform <function Model.make_test_function.<locals>.test_function at 0x308530af0> and will run it as-is.\n",
      "Please report this to the TensorFlow team. When filing the bug, set the verbosity to 10 (on Linux, `export AUTOGRAPH_VERBOSITY=10`) and attach the full output.\n",
      "Cause: unsupported operand type(s) for -: 'NoneType' and 'int'\n",
      "To silence this warning, decorate the function with @tf.autograph.experimental.do_not_convert\n",
      "250/250 [==============================] - 71s 284ms/step - loss: 0.9359 - accuracy: 0.5307 - val_loss: 0.6669 - val_accuracy: 0.6340\n",
      "Epoch 2/30\n",
      "250/250 [==============================] - 70s 281ms/step - loss: 0.6544 - accuracy: 0.6206 - val_loss: 0.6211 - val_accuracy: 0.6555\n",
      "Epoch 3/30\n",
      "250/250 [==============================] - 73s 290ms/step - loss: 0.5962 - accuracy: 0.6833 - val_loss: 0.5866 - val_accuracy: 0.6905\n",
      "Epoch 4/30\n",
      "250/250 [==============================] - 74s 295ms/step - loss: 0.5636 - accuracy: 0.7124 - val_loss: 0.5603 - val_accuracy: 0.7280\n",
      "Epoch 5/30\n",
      "250/250 [==============================] - 74s 297ms/step - loss: 0.5344 - accuracy: 0.7265 - val_loss: 0.5331 - val_accuracy: 0.7455\n",
      "Epoch 6/30\n",
      "250/250 [==============================] - 77s 307ms/step - loss: 0.5129 - accuracy: 0.7480 - val_loss: 0.5566 - val_accuracy: 0.7405\n",
      "Epoch 7/30\n",
      "250/250 [==============================] - 78s 312ms/step - loss: 0.4873 - accuracy: 0.7612 - val_loss: 0.5002 - val_accuracy: 0.7670\n",
      "Epoch 8/30\n",
      "250/250 [==============================] - 83s 332ms/step - loss: 0.4441 - accuracy: 0.7997 - val_loss: 0.4963 - val_accuracy: 0.7680\n",
      "Epoch 9/30\n",
      "250/250 [==============================] - 76s 305ms/step - loss: 0.4509 - accuracy: 0.7880 - val_loss: 0.5253 - val_accuracy: 0.7585\n",
      "Epoch 10/30\n",
      "250/250 [==============================] - 73s 292ms/step - loss: 0.3906 - accuracy: 0.8233 - val_loss: 0.5970 - val_accuracy: 0.7325\n",
      "Epoch 11/30\n",
      "250/250 [==============================] - 71s 285ms/step - loss: 0.4004 - accuracy: 0.8219 - val_loss: 0.5164 - val_accuracy: 0.7720\n",
      "Epoch 12/30\n",
      "250/250 [==============================] - 72s 288ms/step - loss: 0.3643 - accuracy: 0.8347 - val_loss: 0.5048 - val_accuracy: 0.7840\n",
      "Epoch 13/30\n",
      "250/250 [==============================] - 72s 290ms/step - loss: 0.3313 - accuracy: 0.8568 - val_loss: 0.5115 - val_accuracy: 0.7785\n",
      "Epoch 14/30\n",
      "250/250 [==============================] - 72s 286ms/step - loss: 0.3129 - accuracy: 0.8705 - val_loss: 0.5425 - val_accuracy: 0.7820\n",
      "Epoch 15/30\n",
      "250/250 [==============================] - 71s 285ms/step - loss: 0.2929 - accuracy: 0.8754 - val_loss: 0.5393 - val_accuracy: 0.7840\n",
      "Epoch 16/30\n",
      "250/250 [==============================] - 74s 294ms/step - loss: 0.2645 - accuracy: 0.8942 - val_loss: 0.6025 - val_accuracy: 0.7925\n",
      "Epoch 17/30\n",
      "250/250 [==============================] - 76s 305ms/step - loss: 0.2471 - accuracy: 0.9039 - val_loss: 0.5898 - val_accuracy: 0.7830\n",
      "Epoch 18/30\n",
      "250/250 [==============================] - 76s 303ms/step - loss: 0.2279 - accuracy: 0.9079 - val_loss: 0.6210 - val_accuracy: 0.7770\n",
      "Epoch 19/30\n",
      "250/250 [==============================] - 76s 302ms/step - loss: 0.2037 - accuracy: 0.9192 - val_loss: 0.6349 - val_accuracy: 0.7895\n",
      "Epoch 20/30\n",
      "250/250 [==============================] - 74s 296ms/step - loss: 0.1934 - accuracy: 0.9191 - val_loss: 0.6754 - val_accuracy: 0.7810\n",
      "Epoch 21/30\n",
      "250/250 [==============================] - 74s 294ms/step - loss: 0.1940 - accuracy: 0.9234 - val_loss: 0.6723 - val_accuracy: 0.7910\n",
      "Epoch 22/30\n",
      "250/250 [==============================] - 75s 300ms/step - loss: 0.1734 - accuracy: 0.9315 - val_loss: 0.7119 - val_accuracy: 0.7930\n",
      "Epoch 23/30\n",
      "250/250 [==============================] - 74s 296ms/step - loss: 0.1549 - accuracy: 0.9412 - val_loss: 0.7414 - val_accuracy: 0.7925\n",
      "Epoch 24/30\n",
      "250/250 [==============================] - 73s 291ms/step - loss: 0.1471 - accuracy: 0.9464 - val_loss: 0.7423 - val_accuracy: 0.7900\n",
      "Epoch 25/30\n",
      "250/250 [==============================] - 73s 291ms/step - loss: 0.1367 - accuracy: 0.9474 - val_loss: 0.8077 - val_accuracy: 0.7735\n",
      "Epoch 26/30\n",
      "250/250 [==============================] - 72s 286ms/step - loss: 0.1329 - accuracy: 0.9519 - val_loss: 0.7576 - val_accuracy: 0.7910\n",
      "Epoch 27/30\n",
      "250/250 [==============================] - 72s 290ms/step - loss: 0.1203 - accuracy: 0.9546 - val_loss: 0.6951 - val_accuracy: 0.7910\n",
      "Epoch 28/30\n",
      "250/250 [==============================] - 72s 286ms/step - loss: 0.1259 - accuracy: 0.9551 - val_loss: 0.8596 - val_accuracy: 0.7835\n",
      "Epoch 29/30\n",
      "250/250 [==============================] - 72s 286ms/step - loss: 0.0996 - accuracy: 0.9627 - val_loss: 0.7637 - val_accuracy: 0.7930\n",
      "Epoch 30/30\n",
      "250/250 [==============================] - 72s 289ms/step - loss: 0.1036 - accuracy: 0.9627 - val_loss: 0.8052 - val_accuracy: 0.7935\n"
     ]
    },
    {
     "data": {
      "text/plain": [
       "<tensorflow.python.keras.callbacks.History at 0x16d8de580>"
      ]
     },
     "execution_count": 16,
     "metadata": {},
     "output_type": "execute_result"
    }
   ],
   "source": [
    "cnn.fit(x = training_set, validation_data = test_set, epochs = 30)"
   ]
  },
  {
   "cell_type": "markdown",
   "metadata": {
    "colab_type": "text",
    "id": "U3PZasO0006Z"
   },
   "source": [
    "## Part 4 - Making a single prediction"
   ]
  },
  {
   "cell_type": "code",
   "execution_count": 19,
   "metadata": {},
   "outputs": [
    {
     "name": "stdout",
     "output_type": "stream",
     "text": [
      "Cat\n"
     ]
    }
   ],
   "source": [
    "import numpy as np\n",
    "from tensorflow.keras.preprocessing import image\n",
    "test_image = image.load_img('single_prediction/cat_or_dog_2.jpg', target_size = (150,150))\n",
    "test_image = image.img_to_array(test_image)\n",
    "test_image = np.expand_dims(test_image, axis=0)\n",
    "result = cnn.predict(test_image)\n",
    "training_set.class_indices\n",
    "if result[0][0] == 1:\n",
    "    prediction = 'Dog'\n",
    "else:\n",
    "    prediction = 'Cat'\n",
    "print(prediction)"
   ]
  },
  {
   "cell_type": "code",
   "execution_count": null,
   "metadata": {},
   "outputs": [],
   "source": []
  }
 ],
 "metadata": {
  "colab": {
   "collapsed_sections": [],
   "name": "convolutional_neural_network.ipynb",
   "provenance": [],
   "toc_visible": true
  },
  "kernelspec": {
   "display_name": "Python 3 (ipykernel)",
   "language": "python",
   "name": "python3"
  },
  "language_info": {
   "codemirror_mode": {
    "name": "ipython",
    "version": 3
   },
   "file_extension": ".py",
   "mimetype": "text/x-python",
   "name": "python",
   "nbconvert_exporter": "python",
   "pygments_lexer": "ipython3",
   "version": "3.8.10"
  }
 },
 "nbformat": 4,
 "nbformat_minor": 1
}

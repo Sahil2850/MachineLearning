{
 "cells": [
  {
   "cell_type": "markdown",
   "metadata": {
    "colab_type": "text",
    "id": "lP6JLo1tGNBg"
   },
   "source": [
    "# Artificial Neural Network"
   ]
  },
  {
   "cell_type": "markdown",
   "metadata": {
    "colab_type": "text",
    "id": "gWZyYmS_UE_L"
   },
   "source": [
    "### Importing the libraries"
   ]
  },
  {
   "cell_type": "code",
   "execution_count": 3,
   "metadata": {
    "colab": {},
    "colab_type": "code",
    "id": "MxkJoQBkUIHC"
   },
   "outputs": [],
   "source": [
    "import numpy as np\n",
    "import pandas as pd\n",
    "import tensorflow as tf"
   ]
  },
  {
   "cell_type": "code",
   "execution_count": 4,
   "metadata": {
    "colab": {
     "base_uri": "https://localhost:8080/",
     "height": 34
    },
    "colab_type": "code",
    "id": "ZaTwK7ojXr2F",
    "outputId": "0b27a96d-d11a-43e8-ab4b-87c1f01896fe"
   },
   "outputs": [
    {
     "data": {
      "text/plain": [
       "'2.4.0-rc0'"
      ]
     },
     "execution_count": 4,
     "metadata": {},
     "output_type": "execute_result"
    }
   ],
   "source": [
    "tf.__version__"
   ]
  },
  {
   "cell_type": "markdown",
   "metadata": {
    "colab_type": "text",
    "id": "1E0Q3aoKUCRX"
   },
   "source": [
    "## Part 1 - Data Preprocessing"
   ]
  },
  {
   "cell_type": "markdown",
   "metadata": {
    "colab_type": "text",
    "id": "cKWAkFVGUU0Z"
   },
   "source": [
    "### Importing the dataset"
   ]
  },
  {
   "cell_type": "code",
   "execution_count": 5,
   "metadata": {},
   "outputs": [],
   "source": [
    "dataset = pd.read_csv('Churn_Modelling.csv')\n",
    "X=dataset.iloc[:,3:-1].values\n",
    "y=dataset.iloc[:,-1].values"
   ]
  },
  {
   "cell_type": "code",
   "execution_count": 6,
   "metadata": {},
   "outputs": [
    {
     "name": "stdout",
     "output_type": "stream",
     "text": [
      "[[619 'France' 'Female' ... 1 1 101348.88]\n",
      " [608 'Spain' 'Female' ... 0 1 112542.58]\n",
      " [502 'France' 'Female' ... 1 0 113931.57]\n",
      " ...\n",
      " [709 'France' 'Female' ... 0 1 42085.58]\n",
      " [772 'Germany' 'Male' ... 1 0 92888.52]\n",
      " [792 'France' 'Female' ... 1 0 38190.78]]\n"
     ]
    }
   ],
   "source": [
    "print(X)"
   ]
  },
  {
   "cell_type": "code",
   "execution_count": 7,
   "metadata": {},
   "outputs": [
    {
     "name": "stdout",
     "output_type": "stream",
     "text": [
      "[1 0 1 ... 1 1 0]\n"
     ]
    }
   ],
   "source": [
    "print(y)"
   ]
  },
  {
   "cell_type": "markdown",
   "metadata": {
    "colab_type": "text",
    "id": "N6bQ0UgSU-NJ"
   },
   "source": [
    "### Encoding categorical data"
   ]
  },
  {
   "cell_type": "markdown",
   "metadata": {
    "colab_type": "text",
    "id": "le5MJreAbW52"
   },
   "source": [
    "Label Encoding the \"Gender\" column"
   ]
  },
  {
   "cell_type": "code",
   "execution_count": 9,
   "metadata": {},
   "outputs": [],
   "source": [
    "from sklearn.preprocessing import LabelEncoder\n",
    "le = LabelEncoder()\n",
    "X[:,2] = le.fit_transform(X[:,2])"
   ]
  },
  {
   "cell_type": "code",
   "execution_count": 10,
   "metadata": {},
   "outputs": [
    {
     "name": "stdout",
     "output_type": "stream",
     "text": [
      "[[619 'France' 0 ... 1 1 101348.88]\n",
      " [608 'Spain' 0 ... 0 1 112542.58]\n",
      " [502 'France' 0 ... 1 0 113931.57]\n",
      " ...\n",
      " [709 'France' 0 ... 0 1 42085.58]\n",
      " [772 'Germany' 1 ... 1 0 92888.52]\n",
      " [792 'France' 0 ... 1 0 38190.78]]\n"
     ]
    }
   ],
   "source": [
    "print(X)"
   ]
  },
  {
   "cell_type": "markdown",
   "metadata": {
    "colab_type": "text",
    "id": "CUxGZezpbMcb"
   },
   "source": [
    "One Hot Encoding the \"Geography\" column"
   ]
  },
  {
   "cell_type": "code",
   "execution_count": 13,
   "metadata": {},
   "outputs": [],
   "source": [
    "from sklearn.compose import ColumnTransformer\n",
    "from sklearn.preprocessing import OneHotEncoder\n",
    "ct = ColumnTransformer(transformers=[('encoder', OneHotEncoder(), [1])], remainder='passthrough')\n",
    "X = np.array(ct.fit_transform(X))"
   ]
  },
  {
   "cell_type": "code",
   "execution_count": 14,
   "metadata": {},
   "outputs": [
    {
     "name": "stdout",
     "output_type": "stream",
     "text": [
      "[[1.0 0.0 0.0 ... 1 1 101348.88]\n",
      " [0.0 0.0 1.0 ... 0 1 112542.58]\n",
      " [1.0 0.0 0.0 ... 1 0 113931.57]\n",
      " ...\n",
      " [1.0 0.0 0.0 ... 0 1 42085.58]\n",
      " [0.0 1.0 0.0 ... 1 0 92888.52]\n",
      " [1.0 0.0 0.0 ... 1 0 38190.78]]\n"
     ]
    }
   ],
   "source": [
    "print(X)"
   ]
  },
  {
   "cell_type": "markdown",
   "metadata": {
    "colab_type": "text",
    "id": "vHol938cW8zd"
   },
   "source": [
    "### Splitting the dataset into the Training set and Test set"
   ]
  },
  {
   "cell_type": "code",
   "execution_count": 15,
   "metadata": {},
   "outputs": [],
   "source": [
    "from sklearn.model_selection import train_test_split\n",
    "X_train, X_test, y_train, y_test = train_test_split(X, y, test_size = 0.2, random_state = 0)"
   ]
  },
  {
   "cell_type": "markdown",
   "metadata": {
    "colab_type": "text",
    "id": "RE_FcHyfV3TQ"
   },
   "source": [
    "### Feature Scaling"
   ]
  },
  {
   "cell_type": "code",
   "execution_count": 16,
   "metadata": {},
   "outputs": [],
   "source": [
    "from sklearn.preprocessing import StandardScaler\n",
    "sc = StandardScaler()\n",
    "X_train = sc.fit_transform(X_train)\n",
    "X_test = sc.transform(X_test)"
   ]
  },
  {
   "cell_type": "markdown",
   "metadata": {
    "colab_type": "text",
    "id": "-zfEzkRVXIwF"
   },
   "source": [
    "## Part 2 - Building the ANN"
   ]
  },
  {
   "cell_type": "markdown",
   "metadata": {
    "colab_type": "text",
    "id": "KvdeScabXtlB"
   },
   "source": [
    "### Initializing the ANN"
   ]
  },
  {
   "cell_type": "code",
   "execution_count": 17,
   "metadata": {},
   "outputs": [],
   "source": [
    "ann = tf.keras.models.Sequential()"
   ]
  },
  {
   "cell_type": "markdown",
   "metadata": {
    "colab_type": "text",
    "id": "rP6urV6SX7kS"
   },
   "source": [
    "### Adding the input layer and the first hidden layer"
   ]
  },
  {
   "cell_type": "code",
   "execution_count": 19,
   "metadata": {},
   "outputs": [],
   "source": [
    "ann.add(tf.keras.layers.Dense(units = 6, activation = 'relu'))"
   ]
  },
  {
   "cell_type": "markdown",
   "metadata": {
    "colab_type": "text",
    "id": "BELWAc_8YJze"
   },
   "source": [
    "### Adding the second hidden layer"
   ]
  },
  {
   "cell_type": "code",
   "execution_count": 20,
   "metadata": {},
   "outputs": [],
   "source": [
    "ann.add(tf.keras.layers.Dense(units = 6, activation = 'relu'))"
   ]
  },
  {
   "cell_type": "markdown",
   "metadata": {
    "colab_type": "text",
    "id": "OyNEe6RXYcU4"
   },
   "source": [
    "### Adding the output layer"
   ]
  },
  {
   "cell_type": "code",
   "execution_count": 21,
   "metadata": {},
   "outputs": [],
   "source": [
    "ann.add(tf.keras.layers.Dense(units = 1, activation='sigmoid'))"
   ]
  },
  {
   "cell_type": "markdown",
   "metadata": {
    "colab_type": "text",
    "id": "JT4u2S1_Y4WG"
   },
   "source": [
    "## Part 3 - Training the ANN"
   ]
  },
  {
   "cell_type": "markdown",
   "metadata": {
    "colab_type": "text",
    "id": "8GWlJChhY_ZI"
   },
   "source": [
    "### Compiling the ANN"
   ]
  },
  {
   "cell_type": "code",
   "execution_count": 22,
   "metadata": {},
   "outputs": [],
   "source": [
    "ann.compile(optimizer = 'adam', loss = 'binary_crossentropy', metrics = ['accuracy'] )"
   ]
  },
  {
   "cell_type": "markdown",
   "metadata": {
    "colab_type": "text",
    "id": "0QR_G5u7ZLSM"
   },
   "source": [
    "### Training the ANN on the Training set"
   ]
  },
  {
   "cell_type": "code",
   "execution_count": 24,
   "metadata": {},
   "outputs": [
    {
     "name": "stdout",
     "output_type": "stream",
     "text": [
      "Epoch 1/100\n",
      "WARNING:tensorflow:AutoGraph could not transform <function Model.make_train_function.<locals>.train_function at 0x152302c10> and will run it as-is.\n",
      "Please report this to the TensorFlow team. When filing the bug, set the verbosity to 10 (on Linux, `export AUTOGRAPH_VERBOSITY=10`) and attach the full output.\n",
      "Cause: unsupported operand type(s) for -: 'NoneType' and 'int'\n",
      "To silence this warning, decorate the function with @tf.autograph.experimental.do_not_convert\n",
      "WARNING: AutoGraph could not transform <function Model.make_train_function.<locals>.train_function at 0x152302c10> and will run it as-is.\n",
      "Please report this to the TensorFlow team. When filing the bug, set the verbosity to 10 (on Linux, `export AUTOGRAPH_VERBOSITY=10`) and attach the full output.\n",
      "Cause: unsupported operand type(s) for -: 'NoneType' and 'int'\n",
      "To silence this warning, decorate the function with @tf.autograph.experimental.do_not_convert\n"
     ]
    },
    {
     "name": "stderr",
     "output_type": "stream",
     "text": [
      "2021-07-17 23:37:04.580353: I tensorflow/compiler/mlir/mlir_graph_optimization_pass.cc:116] None of the MLIR optimization passes are enabled (registered 2)\n",
      "2021-07-17 23:37:04.582177: W tensorflow/core/platform/profile_utils/cpu_utils.cc:126] Failed to get CPU frequency: 0 Hz\n"
     ]
    },
    {
     "name": "stdout",
     "output_type": "stream",
     "text": [
      "250/250 [==============================] - 0s 320us/step - loss: 0.5240 - accuracy: 0.8007\n",
      "Epoch 2/100\n",
      "250/250 [==============================] - 0s 324us/step - loss: 0.4799 - accuracy: 0.7955\n",
      "Epoch 3/100\n",
      "250/250 [==============================] - 0s 315us/step - loss: 0.4652 - accuracy: 0.7941\n",
      "Epoch 4/100\n",
      "250/250 [==============================] - 0s 339us/step - loss: 0.4633 - accuracy: 0.7877\n",
      "Epoch 5/100\n",
      "250/250 [==============================] - 0s 313us/step - loss: 0.4498 - accuracy: 0.7832\n",
      "Epoch 6/100\n",
      "250/250 [==============================] - 0s 321us/step - loss: 0.4258 - accuracy: 0.7981\n",
      "Epoch 7/100\n",
      "250/250 [==============================] - 0s 308us/step - loss: 0.4282 - accuracy: 0.7955\n",
      "Epoch 8/100\n",
      "250/250 [==============================] - 0s 311us/step - loss: 0.4245 - accuracy: 0.8149\n",
      "Epoch 9/100\n",
      "250/250 [==============================] - 0s 333us/step - loss: 0.4202 - accuracy: 0.8111\n",
      "Epoch 10/100\n",
      "250/250 [==============================] - 0s 313us/step - loss: 0.4226 - accuracy: 0.8119\n",
      "Epoch 11/100\n",
      "250/250 [==============================] - 0s 320us/step - loss: 0.4124 - accuracy: 0.8208\n",
      "Epoch 12/100\n",
      "250/250 [==============================] - 0s 317us/step - loss: 0.4154 - accuracy: 0.8180\n",
      "Epoch 13/100\n",
      "250/250 [==============================] - 0s 320us/step - loss: 0.4175 - accuracy: 0.8275\n",
      "Epoch 14/100\n",
      "250/250 [==============================] - 0s 357us/step - loss: 0.4125 - accuracy: 0.8298\n",
      "Epoch 15/100\n",
      "250/250 [==============================] - 0s 334us/step - loss: 0.3934 - accuracy: 0.8435\n",
      "Epoch 16/100\n",
      "250/250 [==============================] - 0s 333us/step - loss: 0.4031 - accuracy: 0.8381\n",
      "Epoch 17/100\n",
      "250/250 [==============================] - 0s 350us/step - loss: 0.4037 - accuracy: 0.8373\n",
      "Epoch 18/100\n",
      "250/250 [==============================] - 0s 314us/step - loss: 0.4161 - accuracy: 0.8262\n",
      "Epoch 19/100\n",
      "250/250 [==============================] - 0s 325us/step - loss: 0.3890 - accuracy: 0.8419\n",
      "Epoch 20/100\n",
      "250/250 [==============================] - 0s 333us/step - loss: 0.3997 - accuracy: 0.8339\n",
      "Epoch 21/100\n",
      "250/250 [==============================] - 0s 347us/step - loss: 0.3984 - accuracy: 0.8368\n",
      "Epoch 22/100\n",
      "250/250 [==============================] - 0s 363us/step - loss: 0.4029 - accuracy: 0.8369\n",
      "Epoch 23/100\n",
      "250/250 [==============================] - 0s 345us/step - loss: 0.4012 - accuracy: 0.8346\n",
      "Epoch 24/100\n",
      "250/250 [==============================] - 0s 346us/step - loss: 0.3939 - accuracy: 0.8357\n",
      "Epoch 25/100\n",
      "250/250 [==============================] - 0s 334us/step - loss: 0.3984 - accuracy: 0.8342\n",
      "Epoch 26/100\n",
      "250/250 [==============================] - 0s 338us/step - loss: 0.3871 - accuracy: 0.8418\n",
      "Epoch 27/100\n",
      "250/250 [==============================] - 0s 340us/step - loss: 0.3965 - accuracy: 0.8350\n",
      "Epoch 28/100\n",
      "250/250 [==============================] - 0s 357us/step - loss: 0.4007 - accuracy: 0.8386\n",
      "Epoch 29/100\n",
      "250/250 [==============================] - 0s 335us/step - loss: 0.3905 - accuracy: 0.8393\n",
      "Epoch 30/100\n",
      "250/250 [==============================] - 0s 339us/step - loss: 0.4010 - accuracy: 0.8352\n",
      "Epoch 31/100\n",
      "250/250 [==============================] - 0s 361us/step - loss: 0.4011 - accuracy: 0.8362\n",
      "Epoch 32/100\n",
      "250/250 [==============================] - 0s 331us/step - loss: 0.3852 - accuracy: 0.8424\n",
      "Epoch 33/100\n",
      "250/250 [==============================] - 0s 330us/step - loss: 0.3906 - accuracy: 0.8387\n",
      "Epoch 34/100\n",
      "250/250 [==============================] - 0s 354us/step - loss: 0.3920 - accuracy: 0.8397\n",
      "Epoch 35/100\n",
      "250/250 [==============================] - 0s 331us/step - loss: 0.3995 - accuracy: 0.8349\n",
      "Epoch 36/100\n",
      "250/250 [==============================] - 0s 343us/step - loss: 0.3958 - accuracy: 0.8393\n",
      "Epoch 37/100\n",
      "250/250 [==============================] - 0s 337us/step - loss: 0.3928 - accuracy: 0.8432\n",
      "Epoch 38/100\n",
      "250/250 [==============================] - 0s 354us/step - loss: 0.4027 - accuracy: 0.8308\n",
      "Epoch 39/100\n",
      "250/250 [==============================] - 0s 331us/step - loss: 0.3859 - accuracy: 0.8393\n",
      "Epoch 40/100\n",
      "250/250 [==============================] - 0s 346us/step - loss: 0.3783 - accuracy: 0.8465\n",
      "Epoch 41/100\n",
      "250/250 [==============================] - 0s 358us/step - loss: 0.3693 - accuracy: 0.8519\n",
      "Epoch 42/100\n",
      "250/250 [==============================] - 0s 330us/step - loss: 0.3621 - accuracy: 0.8538\n",
      "Epoch 43/100\n",
      "250/250 [==============================] - 0s 328us/step - loss: 0.3556 - accuracy: 0.8567\n",
      "Epoch 44/100\n",
      "250/250 [==============================] - 0s 335us/step - loss: 0.3527 - accuracy: 0.8532\n",
      "Epoch 45/100\n",
      "250/250 [==============================] - 0s 338us/step - loss: 0.3567 - accuracy: 0.8543\n",
      "Epoch 46/100\n",
      "250/250 [==============================] - 0s 324us/step - loss: 0.3580 - accuracy: 0.8534\n",
      "Epoch 47/100\n",
      "250/250 [==============================] - 0s 329us/step - loss: 0.3468 - accuracy: 0.8579\n",
      "Epoch 48/100\n",
      "250/250 [==============================] - 0s 346us/step - loss: 0.3456 - accuracy: 0.8577\n",
      "Epoch 49/100\n",
      "250/250 [==============================] - 0s 343us/step - loss: 0.3517 - accuracy: 0.8595\n",
      "Epoch 50/100\n",
      "250/250 [==============================] - 0s 343us/step - loss: 0.3391 - accuracy: 0.8613\n",
      "Epoch 51/100\n",
      "250/250 [==============================] - 0s 316us/step - loss: 0.3355 - accuracy: 0.8632\n",
      "Epoch 52/100\n",
      "250/250 [==============================] - 0s 320us/step - loss: 0.3414 - accuracy: 0.8595\n",
      "Epoch 53/100\n",
      "250/250 [==============================] - 0s 320us/step - loss: 0.3395 - accuracy: 0.8604\n",
      "Epoch 54/100\n",
      "250/250 [==============================] - 0s 324us/step - loss: 0.3423 - accuracy: 0.8573\n",
      "Epoch 55/100\n",
      "250/250 [==============================] - 0s 317us/step - loss: 0.3406 - accuracy: 0.8561\n",
      "Epoch 56/100\n",
      "250/250 [==============================] - 0s 333us/step - loss: 0.3364 - accuracy: 0.8628\n",
      "Epoch 57/100\n",
      "250/250 [==============================] - 0s 340us/step - loss: 0.3334 - accuracy: 0.8630\n",
      "Epoch 58/100\n",
      "250/250 [==============================] - 0s 332us/step - loss: 0.3388 - accuracy: 0.8612\n",
      "Epoch 59/100\n",
      "250/250 [==============================] - 0s 325us/step - loss: 0.3396 - accuracy: 0.8586\n",
      "Epoch 60/100\n",
      "250/250 [==============================] - 0s 354us/step - loss: 0.3315 - accuracy: 0.8626\n",
      "Epoch 61/100\n",
      "250/250 [==============================] - 0s 328us/step - loss: 0.3403 - accuracy: 0.8608\n",
      "Epoch 62/100\n",
      "250/250 [==============================] - 0s 339us/step - loss: 0.3366 - accuracy: 0.8620\n",
      "Epoch 63/100\n",
      "250/250 [==============================] - 0s 339us/step - loss: 0.3490 - accuracy: 0.8566\n",
      "Epoch 64/100\n",
      "250/250 [==============================] - 0s 332us/step - loss: 0.3439 - accuracy: 0.8607\n",
      "Epoch 65/100\n",
      "250/250 [==============================] - 0s 323us/step - loss: 0.3431 - accuracy: 0.8537\n",
      "Epoch 66/100\n",
      "250/250 [==============================] - 0s 325us/step - loss: 0.3355 - accuracy: 0.8608\n",
      "Epoch 67/100\n",
      "250/250 [==============================] - 0s 331us/step - loss: 0.3377 - accuracy: 0.8633\n",
      "Epoch 68/100\n",
      "250/250 [==============================] - 0s 338us/step - loss: 0.3291 - accuracy: 0.8667\n",
      "Epoch 69/100\n",
      "250/250 [==============================] - 0s 329us/step - loss: 0.3400 - accuracy: 0.8623\n",
      "Epoch 70/100\n",
      "250/250 [==============================] - 0s 316us/step - loss: 0.3204 - accuracy: 0.8685\n",
      "Epoch 71/100\n",
      "250/250 [==============================] - 0s 330us/step - loss: 0.3302 - accuracy: 0.8683\n",
      "Epoch 72/100\n",
      "250/250 [==============================] - 0s 327us/step - loss: 0.3314 - accuracy: 0.8639\n",
      "Epoch 73/100\n",
      "250/250 [==============================] - 0s 329us/step - loss: 0.3402 - accuracy: 0.8593\n",
      "Epoch 74/100\n",
      "250/250 [==============================] - 0s 321us/step - loss: 0.3499 - accuracy: 0.8550\n",
      "Epoch 75/100\n",
      "250/250 [==============================] - 0s 343us/step - loss: 0.3338 - accuracy: 0.8660\n",
      "Epoch 76/100\n",
      "250/250 [==============================] - 0s 338us/step - loss: 0.3242 - accuracy: 0.8680\n",
      "Epoch 77/100\n",
      "250/250 [==============================] - 0s 324us/step - loss: 0.3322 - accuracy: 0.8610\n",
      "Epoch 78/100\n",
      "250/250 [==============================] - 0s 333us/step - loss: 0.3390 - accuracy: 0.8569\n",
      "Epoch 79/100\n",
      "250/250 [==============================] - 0s 315us/step - loss: 0.3322 - accuracy: 0.8622\n"
     ]
    },
    {
     "name": "stdout",
     "output_type": "stream",
     "text": [
      "Epoch 80/100\n",
      "250/250 [==============================] - 0s 335us/step - loss: 0.3385 - accuracy: 0.8627\n",
      "Epoch 81/100\n",
      "250/250 [==============================] - 0s 319us/step - loss: 0.3432 - accuracy: 0.8585\n",
      "Epoch 82/100\n",
      "250/250 [==============================] - 0s 339us/step - loss: 0.3325 - accuracy: 0.8635\n",
      "Epoch 83/100\n",
      "250/250 [==============================] - 0s 338us/step - loss: 0.3337 - accuracy: 0.8652\n",
      "Epoch 84/100\n",
      "250/250 [==============================] - 0s 334us/step - loss: 0.3369 - accuracy: 0.8611\n",
      "Epoch 85/100\n",
      "250/250 [==============================] - 0s 334us/step - loss: 0.3394 - accuracy: 0.8564\n",
      "Epoch 86/100\n",
      "250/250 [==============================] - 0s 325us/step - loss: 0.3338 - accuracy: 0.8607\n",
      "Epoch 87/100\n",
      "250/250 [==============================] - 0s 333us/step - loss: 0.3273 - accuracy: 0.8676\n",
      "Epoch 88/100\n",
      "250/250 [==============================] - 0s 424us/step - loss: 0.3325 - accuracy: 0.8640\n",
      "Epoch 89/100\n",
      "250/250 [==============================] - 0s 328us/step - loss: 0.3386 - accuracy: 0.8606\n",
      "Epoch 90/100\n",
      "250/250 [==============================] - 0s 333us/step - loss: 0.3342 - accuracy: 0.8626\n",
      "Epoch 91/100\n",
      "250/250 [==============================] - 0s 343us/step - loss: 0.3388 - accuracy: 0.8592\n",
      "Epoch 92/100\n",
      "250/250 [==============================] - 0s 339us/step - loss: 0.3317 - accuracy: 0.8634\n",
      "Epoch 93/100\n",
      "250/250 [==============================] - 0s 337us/step - loss: 0.3382 - accuracy: 0.8569\n",
      "Epoch 94/100\n",
      "250/250 [==============================] - 0s 336us/step - loss: 0.3358 - accuracy: 0.8599\n",
      "Epoch 95/100\n",
      "250/250 [==============================] - 0s 316us/step - loss: 0.3172 - accuracy: 0.8678\n",
      "Epoch 96/100\n",
      "250/250 [==============================] - 0s 341us/step - loss: 0.3329 - accuracy: 0.8634\n",
      "Epoch 97/100\n",
      "250/250 [==============================] - 0s 332us/step - loss: 0.3350 - accuracy: 0.8637\n",
      "Epoch 98/100\n",
      "250/250 [==============================] - 0s 335us/step - loss: 0.3315 - accuracy: 0.8604\n",
      "Epoch 99/100\n",
      "250/250 [==============================] - 0s 321us/step - loss: 0.3420 - accuracy: 0.8572\n",
      "Epoch 100/100\n",
      "250/250 [==============================] - 0s 322us/step - loss: 0.3275 - accuracy: 0.8645\n"
     ]
    },
    {
     "data": {
      "text/plain": [
       "<tensorflow.python.keras.callbacks.History at 0x1526851f0>"
      ]
     },
     "execution_count": 24,
     "metadata": {},
     "output_type": "execute_result"
    }
   ],
   "source": [
    "ann.fit(X_train, y_train, batch_size = 32, epochs = 100)"
   ]
  },
  {
   "cell_type": "markdown",
   "metadata": {
    "colab_type": "text",
    "id": "tJj5k2MxZga3"
   },
   "source": [
    "## Part 4 - Making the predictions and evaluating the model"
   ]
  },
  {
   "cell_type": "markdown",
   "metadata": {
    "colab_type": "text",
    "id": "84QFoqGYeXHL"
   },
   "source": [
    "### Predicting the result of a single observation"
   ]
  },
  {
   "cell_type": "markdown",
   "metadata": {
    "colab_type": "text",
    "id": "CGRo3eacgDdC"
   },
   "source": [
    "**Homework**\n",
    "\n",
    "Use our ANN model to predict if the customer with the following informations will leave the bank: \n",
    "\n",
    "Geography: France\n",
    "\n",
    "Credit Score: 600\n",
    "\n",
    "Gender: Male\n",
    "\n",
    "Age: 40 years old\n",
    "\n",
    "Tenure: 3 years\n",
    "\n",
    "Balance: \\$ 60000\n",
    "\n",
    "Number of Products: 2\n",
    "\n",
    "Does this customer have a credit card ? Yes\n",
    "\n",
    "Is this customer an Active Member: Yes\n",
    "\n",
    "Estimated Salary: \\$ 50000\n",
    "\n",
    "So, should we say goodbye to that customer ?"
   ]
  },
  {
   "cell_type": "markdown",
   "metadata": {
    "colab_type": "text",
    "id": "ZhU1LTgPg-kH"
   },
   "source": [
    "**Solution**"
   ]
  },
  {
   "cell_type": "code",
   "execution_count": 26,
   "metadata": {},
   "outputs": [
    {
     "name": "stdout",
     "output_type": "stream",
     "text": [
      "WARNING:tensorflow:AutoGraph could not transform <function Model.make_predict_function.<locals>.predict_function at 0x154f47160> and will run it as-is.\n",
      "Please report this to the TensorFlow team. When filing the bug, set the verbosity to 10 (on Linux, `export AUTOGRAPH_VERBOSITY=10`) and attach the full output.\n",
      "Cause: unsupported operand type(s) for -: 'NoneType' and 'int'\n",
      "To silence this warning, decorate the function with @tf.autograph.experimental.do_not_convert\n",
      "WARNING: AutoGraph could not transform <function Model.make_predict_function.<locals>.predict_function at 0x154f47160> and will run it as-is.\n",
      "Please report this to the TensorFlow team. When filing the bug, set the verbosity to 10 (on Linux, `export AUTOGRAPH_VERBOSITY=10`) and attach the full output.\n",
      "Cause: unsupported operand type(s) for -: 'NoneType' and 'int'\n",
      "To silence this warning, decorate the function with @tf.autograph.experimental.do_not_convert\n",
      "[[False]]\n"
     ]
    }
   ],
   "source": [
    "print(ann.predict(sc.transform([[1, 0, 0, 600, 1, 40, 3, 60000, 2, 1, 1, 50000]]))>0.5)"
   ]
  },
  {
   "cell_type": "markdown",
   "metadata": {
    "colab_type": "text",
    "id": "wGjx94g2n7OV"
   },
   "source": [
    "Therefore, our ANN model predicts that this customer stays in the bank!\n",
    "\n",
    "**Important note 1:** Notice that the values of the features were all input in a double pair of square brackets. That's because the \"predict\" method always expects a 2D array as the format of its inputs. And putting our values into a double pair of square brackets makes the input exactly a 2D array.\n",
    "\n",
    "**Important note 2:** Notice also that the \"France\" country was not input as a string in the last column but as \"1, 0, 0\" in the first three columns. That's because of course the predict method expects the one-hot-encoded values of the state, and as we see in the first row of the matrix of features X, \"France\" was encoded as \"1, 0, 0\". And be careful to include these values in the first three columns, because the dummy variables are always created in the first columns."
   ]
  },
  {
   "cell_type": "markdown",
   "metadata": {
    "colab_type": "text",
    "id": "u7yx47jPZt11"
   },
   "source": [
    "### Predicting the Test set results"
   ]
  },
  {
   "cell_type": "code",
   "execution_count": 27,
   "metadata": {},
   "outputs": [
    {
     "name": "stdout",
     "output_type": "stream",
     "text": [
      "[[0 0]\n",
      " [0 1]\n",
      " [0 0]\n",
      " ...\n",
      " [0 0]\n",
      " [0 0]\n",
      " [0 0]]\n"
     ]
    }
   ],
   "source": [
    "y_pred = ann.predict(X_test)\n",
    "y_pred = (y_pred > 0.5)\n",
    "print(np.concatenate((y_pred.reshape(len(y_pred),1), y_test.reshape(len(y_test),1)),1))"
   ]
  },
  {
   "cell_type": "markdown",
   "metadata": {
    "colab_type": "text",
    "id": "o0oyfLWoaEGw"
   },
   "source": [
    "### Making the Confusion Matrix"
   ]
  },
  {
   "cell_type": "code",
   "execution_count": 28,
   "metadata": {},
   "outputs": [
    {
     "name": "stdout",
     "output_type": "stream",
     "text": [
      "[[1547   48]\n",
      " [ 221  184]]\n"
     ]
    },
    {
     "data": {
      "text/plain": [
       "0.8655"
      ]
     },
     "execution_count": 28,
     "metadata": {},
     "output_type": "execute_result"
    }
   ],
   "source": [
    "from sklearn.metrics import confusion_matrix, accuracy_score\n",
    "cm = confusion_matrix(y_test, y_pred)\n",
    "print(cm)\n",
    "accuracy_score(y_test, y_pred)"
   ]
  }
 ],
 "metadata": {
  "colab": {
   "collapsed_sections": [],
   "name": "artificial_neural_network.ipynb",
   "provenance": [],
   "toc_visible": true
  },
  "kernelspec": {
   "display_name": "Python 3 (ipykernel)",
   "language": "python",
   "name": "python3"
  },
  "language_info": {
   "codemirror_mode": {
    "name": "ipython",
    "version": 3
   },
   "file_extension": ".py",
   "mimetype": "text/x-python",
   "name": "python",
   "nbconvert_exporter": "python",
   "pygments_lexer": "ipython3",
   "version": "3.8.10"
  }
 },
 "nbformat": 4,
 "nbformat_minor": 1
}
